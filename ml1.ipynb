{
 "cells": [
  {
   "cell_type": "code",
   "execution_count": 3,
   "metadata": {},
   "outputs": [
    {
     "data": {
      "text/plain": [
       "array([0, 2, 5])"
      ]
     },
     "execution_count": 3,
     "metadata": {},
     "output_type": "execute_result"
    }
   ],
   "source": [
    "# lecture 4\n",
    "# numpy practice\n",
    "\n",
    "import numpy as np \n",
    "# create the 1d array\n",
    "a=np.array([0,2,5])\n",
    "a\n",
    "\n"
   ]
  },
  {
   "cell_type": "code",
   "execution_count": 4,
   "metadata": {},
   "outputs": [
    {
     "name": "stdout",
     "output_type": "stream",
     "text": [
      "<class 'numpy.ndarray'>\n"
     ]
    }
   ],
   "source": [
    "print(type(a))"
   ]
  },
  {
   "cell_type": "code",
   "execution_count": 5,
   "metadata": {},
   "outputs": [
    {
     "data": {
      "text/plain": [
       "(3,)"
      ]
     },
     "execution_count": 5,
     "metadata": {},
     "output_type": "execute_result"
    }
   ],
   "source": [
    "# generate a random array with 3\n",
    "a.shape\n"
   ]
  },
  {
   "cell_type": "code",
   "execution_count": 6,
   "metadata": {},
   "outputs": [
    {
     "name": "stdout",
     "output_type": "stream",
     "text": [
      "0\n",
      "2\n",
      "5\n"
     ]
    }
   ],
   "source": [
    "print(a[0])\n",
    "print(a[1])\n",
    "print(a[2])\n"
   ]
  },
  {
   "cell_type": "code",
   "execution_count": 9,
   "metadata": {},
   "outputs": [
    {
     "name": "stdout",
     "output_type": "stream",
     "text": [
      "[[0 3 6]\n",
      " [4 6 7]]\n",
      "the shape of b is  (2, 3)\n"
     ]
    }
   ],
   "source": [
    "# now 2-d array generate \n",
    "b=np.array([[0,3,6],[4,6,7]])\n",
    "print(b)\n",
    "b.shape # to know its shape, row and vector no in matrix\n",
    "print(\"the shape of b is \", b.shape)"
   ]
  },
  {
   "cell_type": "code",
   "execution_count": 15,
   "metadata": {},
   "outputs": [
    {
     "name": "stdout",
     "output_type": "stream",
     "text": [
      "[[0. 0. 0.]\n",
      " [0. 0. 0.]\n",
      " [0. 0. 0.]]\n",
      "[[8 8 8]\n",
      " [8 8 8]\n",
      " [8 8 8]]\n"
     ]
    }
   ],
   "source": [
    "# creating numpy array again , practisisng jus\n",
    "\n",
    "c=np.zeros([3,3])  # we create array with 3x3 dimension for all zeros\n",
    "\n",
    "print(c)\n",
    "\n",
    "e=np.full([3,3],8) # to create for all 8\n",
    "\n",
    "print(e)"
   ]
  },
  {
   "cell_type": "code",
   "execution_count": 18,
   "metadata": {},
   "outputs": [
    {
     "name": "stdout",
     "output_type": "stream",
     "text": [
      "[[[0.45141196 0.86422446]\n",
      "  [0.29742919 0.72279783]\n",
      "  [0.82071731 0.03399243]\n",
      "  [0.51141193 0.26913845]]\n",
      "\n",
      " [[0.62917293 0.76485711]\n",
      "  [0.12342142 0.6244544 ]\n",
      "  [0.96275276 0.45319017]\n",
      "  [0.05756879 0.62406111]]\n",
      "\n",
      " [[0.44078536 0.6126257 ]\n",
      "  [0.23846604 0.37007392]\n",
      "  [0.07714536 0.7085995 ]\n",
      "  [0.74884456 0.01412537]]]\n"
     ]
    }
   ],
   "source": [
    "# generate random array of 8x8 \n",
    "f=np.random.random((3,4,2))\n",
    "\n",
    "print(f)"
   ]
  },
  {
   "cell_type": "code",
   "execution_count": 19,
   "metadata": {},
   "outputs": [
    {
     "name": "stdout",
     "output_type": "stream",
     "text": [
      "[[1. 0. 0. 0.]\n",
      " [0. 1. 0. 0.]\n",
      " [0. 0. 1. 0.]\n",
      " [0. 0. 0. 1.]]\n"
     ]
    }
   ],
   "source": [
    "# create a 4x4 matrix\n",
    "g=np.eye(4)\n",
    "print(g)"
   ]
  },
  {
   "cell_type": "code",
   "execution_count": 22,
   "metadata": {},
   "outputs": [
    {
     "name": "stdout",
     "output_type": "stream",
     "text": [
      "[ 1  2  3  4  5  6  7  8  9 10 11 12 13 14 15]\n"
     ]
    }
   ],
   "source": [
    "# generate an array from 1 to 15 and also adding 1 \n",
    "\n",
    "h=np.arange(15)+1\n",
    "print(h)"
   ]
  },
  {
   "cell_type": "code",
   "execution_count": 25,
   "metadata": {},
   "outputs": [
    {
     "name": "stdout",
     "output_type": "stream",
     "text": [
      "[0.   0.25 0.5  0.75 1.  ]\n",
      "[[[0 0 0 0]\n",
      "  [1 1 1 1]\n",
      "  [2 2 2 2]\n",
      "  [3 3 3 3]]\n",
      "\n",
      " [[0 1 2 3]\n",
      "  [0 1 2 3]\n",
      "  [0 1 2 3]\n",
      "  [0 1 2 3]]]\n"
     ]
    }
   ],
   "source": [
    "# create lineapace and indices\n",
    "# linespace\n",
    "i=np.linspace(0,1,5) # cut the line betwn 0 and 1 into 5 equal distance\n",
    "print(i)\n",
    "j=np.indices((4,4))\n",
    "print(j)"
   ]
  },
  {
   "cell_type": "code",
   "execution_count": 26,
   "metadata": {},
   "outputs": [
    {
     "data": {
      "text/plain": [
       "array([3, 5, 9])"
      ]
     },
     "execution_count": 26,
     "metadata": {},
     "output_type": "execute_result"
    }
   ],
   "source": [
    "# data slicing\n",
    "\n",
    "x=np.array([1,3,4,5,8,9,11])\n",
    "x[1:7:2]# [i:j:k] i starting point,j end point, k steps of slicing "
   ]
  },
  {
   "cell_type": "code",
   "execution_count": 30,
   "metadata": {},
   "outputs": [],
   "source": [
    "# math operation of array\n",
    "\n",
    "x=np.array([[1,3],[4,5],[7,9]])\n",
    "y=np.array([[1,2],[3,4],[6,10]])"
   ]
  },
  {
   "cell_type": "code",
   "execution_count": 31,
   "metadata": {},
   "outputs": [
    {
     "name": "stdout",
     "output_type": "stream",
     "text": [
      "x [[1 3]\n",
      " [4 5]\n",
      " [7 9]]\n",
      "x shape (3, 2)\n"
     ]
    }
   ],
   "source": [
    "# boolean array indices\n",
    "print(\"x\",x)\n",
    "\n",
    "# boolean array index\n",
    "print(\"x shape\",x.shape)"
   ]
  },
  {
   "cell_type": "code",
   "execution_count": 32,
   "metadata": {},
   "outputs": [
    {
     "name": "stdout",
     "output_type": "stream",
     "text": [
      "arraay sum x+y [[ 2  5]\n",
      " [ 7  9]\n",
      " [13 19]]\n"
     ]
    }
   ],
   "source": [
    "print(\"arraay sum x+y\",x+y)"
   ]
  }
 ],
 "metadata": {
  "kernelspec": {
   "display_name": "base",
   "language": "python",
   "name": "python3"
  },
  "language_info": {
   "codemirror_mode": {
    "name": "ipython",
    "version": 3
   },
   "file_extension": ".py",
   "mimetype": "text/x-python",
   "name": "python",
   "nbconvert_exporter": "python",
   "pygments_lexer": "ipython3",
   "version": "3.8.8"
  }
 },
 "nbformat": 4,
 "nbformat_minor": 2
}
